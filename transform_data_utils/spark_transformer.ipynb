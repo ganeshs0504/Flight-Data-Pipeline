{
 "cells": [
  {
   "cell_type": "code",
   "execution_count": 1,
   "id": "465e199d-ab4e-493f-8a2f-2440a61255c0",
   "metadata": {},
   "outputs": [],
   "source": [
    "import pyspark\n",
    "from pyspark.sql import SparkSession"
   ]
  },
  {
   "cell_type": "code",
   "execution_count": 2,
   "id": "3186ab7f-7b72-4aef-8d1e-fcd520834ea2",
   "metadata": {},
   "outputs": [],
   "source": [
    "spark = SparkSession.builder \\\n",
    "        .master(\"local[*]\") \\\n",
    "        .appName(\"flight_transform\") \\\n",
    "        .getOrCreate()"
   ]
  },
  {
   "cell_type": "code",
   "execution_count": 3,
   "id": "92fc14f0-9bc9-4726-b034-640695a3c3f0",
   "metadata": {},
   "outputs": [],
   "source": [
    "airline_df = spark.read.csv(\"../raw_data/Airlines.csv\", header=True, inferSchema=True)"
   ]
  },
  {
   "cell_type": "code",
   "execution_count": 4,
   "id": "d0a13dd6-a60e-48d2-8cc5-261610a12e94",
   "metadata": {},
   "outputs": [],
   "source": [
    "df = spark.read.parquet(\"../raw_data/pq/2018\")"
   ]
  },
  {
   "cell_type": "code",
   "execution_count": 18,
   "id": "9bdf3161-4e5e-4ab7-af6f-39e747bc3e73",
   "metadata": {},
   "outputs": [],
   "source": [
    "df = df.withColumnRenamed(\"Operating_Airline \", \"airline\")"
   ]
  },
  {
   "cell_type": "code",
   "execution_count": 27,
   "id": "000e7dbd-9033-4ca8-b13d-c5209b254c1d",
   "metadata": {},
   "outputs": [],
   "source": [
    "output_df = df.join(airline_df, df.airline == airline_df.Code, \"inner\")"
   ]
  },
  {
   "cell_type": "code",
   "execution_count": 28,
   "id": "9b75ff05-fdd3-47f9-8910-ab796c668ae4",
   "metadata": {},
   "outputs": [
    {
     "data": {
      "text/plain": [
       "['Month',\n",
       " 'DayofMonth',\n",
       " 'DayOfWeek',\n",
       " 'FlightDate',\n",
       " 'Flight_Number_Operating_Airline',\n",
       " 'airline',\n",
       " 'OriginAirportID',\n",
       " 'Origin',\n",
       " 'OriginCityName',\n",
       " 'OriginState',\n",
       " 'DestAirportID',\n",
       " 'Dest',\n",
       " 'DestCityName',\n",
       " 'DestState',\n",
       " 'CRSDepTime',\n",
       " 'DepTime',\n",
       " 'DepDelay',\n",
       " 'TaxiOut',\n",
       " 'TaxiIn',\n",
       " 'CRSArrTime',\n",
       " 'ArrTime',\n",
       " 'ArrDelay',\n",
       " 'Cancelled',\n",
       " 'CancellationCode',\n",
       " 'CRSElapsedTime',\n",
       " 'ActualElapsedTime',\n",
       " 'AirTime',\n",
       " 'Code',\n",
       " 'Description']"
      ]
     },
     "execution_count": 28,
     "metadata": {},
     "output_type": "execute_result"
    }
   ],
   "source": [
    "output_df.write.format('bigquery') \\\n",
    "    .option('table', output) \\\n",
    "    .save()"
   ]
  },
  {
   "cell_type": "code",
   "execution_count": null,
   "id": "1f1d41d7-9d9c-4d1f-8984-d7431f56cb8a",
   "metadata": {},
   "outputs": [],
   "source": []
  }
 ],
 "metadata": {
  "kernelspec": {
   "display_name": "Python 3 (ipykernel)",
   "language": "python",
   "name": "python3"
  },
  "language_info": {
   "codemirror_mode": {
    "name": "ipython",
    "version": 3
   },
   "file_extension": ".py",
   "mimetype": "text/x-python",
   "name": "python",
   "nbconvert_exporter": "python",
   "pygments_lexer": "ipython3",
   "version": "3.12.6"
  }
 },
 "nbformat": 4,
 "nbformat_minor": 5
}
