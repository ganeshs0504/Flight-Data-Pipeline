{
 "cells": [
  {
   "cell_type": "code",
   "execution_count": 1,
   "id": "e445fc93-a072-4da5-82c6-28c19da6e0c8",
   "metadata": {},
   "outputs": [],
   "source": [
    "import pyspark\n",
    "from pyspark.sql import SparkSession"
   ]
  },
  {
   "cell_type": "code",
   "execution_count": 2,
   "id": "31ffc2dd-054b-4c85-8cf5-799d8cc057c9",
   "metadata": {},
   "outputs": [],
   "source": [
    "spark = SparkSession.builder \\\n",
    "        .master(\"local[*]\") \\\n",
    "        .appName(\"flight_stat\") \\\n",
    "        .getOrCreate()"
   ]
  },
  {
   "cell_type": "code",
   "execution_count": 9,
   "id": "01e355a0-ecf3-4cd7-85a3-a5cb4805621d",
   "metadata": {},
   "outputs": [],
   "source": [
    "df = spark.read \\\n",
    "    .option(\"header\", \"true\") \\\n",
    "    .option(\"inferSchema\", \"true\") \\\n",
    "    .csv('../raw_data/structured_data/2018/Flights_2018_1.csv')"
   ]
  },
  {
   "cell_type": "code",
   "execution_count": 13,
   "id": "b7c11336-cb42-42db-a648-23acd69bdf1f",
   "metadata": {},
   "outputs": [],
   "source": [
    "columns_of_interest = [\n",
    "    \"Month\",\n",
    "    \"DayofMonth\",\n",
    "    \"DayOfWeek\",\n",
    "    \"FlightDate\",\n",
    "    \"Flight_Number_Operating_Airline\",\n",
    "    \"Operating_Airline \",\n",
    "    \"OriginAirportID\",\n",
    "    \"Origin\",\n",
    "    \"OriginCityName\",\n",
    "    \"OriginState\",\n",
    "    \"DestAirportID\",\n",
    "    \"Dest\",\n",
    "    \"DestCityName\",\n",
    "    \"DestState\",\n",
    "    \"CRSDepTime\",\n",
    "    \"DepTime\",\n",
    "    \"DepDelay\",\n",
    "    \"TaxiOut\",\n",
    "    \"TaxiIn\",\n",
    "    \"CRSArrTime\",\n",
    "    \"ArrTime\",\n",
    "    \"ArrDelay\",\n",
    "    \"Cancelled\",\n",
    "    \"CancellationCode\",\n",
    "    \"CRSElapsedTime\",\n",
    "    \"ActualElapsedTime\",\n",
    "    \"AirTime\"\n",
    "]"
   ]
  },
  {
   "cell_type": "code",
   "execution_count": 24,
   "id": "0c596949-b68c-4767-a4a3-0cd8b70ac286",
   "metadata": {},
   "outputs": [],
   "source": [
    "import os\n",
    "\n",
    "parent_dir = \"../raw_data/structured_data\"\n",
    "des_dir = \"../raw_data/pq\"\n",
    "\n",
    "for fname in os.listdir(parent_dir):\n",
    "    fpath = os.path.join(parent_dir, fname)\n",
    "\n",
    "    df = spark.read.csv(fpath, header=True, inferSchema=True)\n",
    "    df = df.select(*columns_of_interest)\n",
    "    # print(df.count())\n",
    "\n",
    "    final_dest_dir = os.path.join(des_dir, fname)\n",
    "    # if not os.path.exists(final_dest_dir):\n",
    "    #     os.makedirs(final_dest_dir)\n",
    "    df.write.parquet(final_dest_dir, mode=\"overwrite\")"
   ]
  },
  {
   "cell_type": "code",
   "execution_count": null,
   "id": "2bbc4936-5511-408f-a51a-b706e1eac320",
   "metadata": {},
   "outputs": [],
   "source": []
  }
 ],
 "metadata": {
  "kernelspec": {
   "display_name": "Python 3 (ipykernel)",
   "language": "python",
   "name": "python3"
  },
  "language_info": {
   "codemirror_mode": {
    "name": "ipython",
    "version": 3
   },
   "file_extension": ".py",
   "mimetype": "text/x-python",
   "name": "python",
   "nbconvert_exporter": "python",
   "pygments_lexer": "ipython3",
   "version": "3.12.6"
  }
 },
 "nbformat": 4,
 "nbformat_minor": 5
}
